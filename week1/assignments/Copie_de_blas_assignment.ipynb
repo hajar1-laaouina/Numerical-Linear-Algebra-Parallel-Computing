{
  "cells": [
    {
      "cell_type": "markdown",
      "id": "c1128903",
      "metadata": {
        "id": "c1128903"
      },
      "source": [
        "# BLAS ASSIGNMENT"
      ]
    },
    {
      "cell_type": "markdown",
      "id": "26afb58d",
      "metadata": {
        "id": "26afb58d"
      },
      "source": [
        "Use the cell below for all your imports."
      ]
    },
    {
      "cell_type": "code",
      "execution_count": 1,
      "id": "d72a4a74",
      "metadata": {
        "id": "d72a4a74"
      },
      "outputs": [],
      "source": [
        "import numpy as np\n",
        "from scipy.linalg.blas import dgemv, ddot, dnrm2"
      ]
    },
    {
      "cell_type": "markdown",
      "id": "91919505",
      "metadata": {
        "id": "91919505"
      },
      "source": [
        "Create a matrix and a vector using NumPy.Their dtype should be double."
      ]
    },
    {
      "cell_type": "code",
      "execution_count": 2,
      "id": "f6837913",
      "metadata": {
        "id": "f6837913"
      },
      "outputs": [],
      "source": [
        "A = np.array([[1, 2, 3], [4, 5, 6], [7, 8, 9]], dtype=np.double)\n",
        "x = np.array([1, 2, 3], dtype=np.double)"
      ]
    },
    {
      "cell_type": "markdown",
      "id": "65f452f9",
      "metadata": {
        "id": "65f452f9"
      },
      "source": [
        "*Use* BLAS functions to perform matrix-vector multiplication\n",
        "\n",
        "1.   Élément de liste\n",
        "2.   Élément de liste\n",
        "\n"
      ]
    },
    {
      "cell_type": "code",
      "execution_count": 3,
      "id": "0f77ebcf",
      "metadata": {
        "id": "0f77ebcf",
        "outputId": "2d593b47-3485-4492-f73b-ee0dcc54a394",
        "colab": {
          "base_uri": "https://localhost:8080/"
        }
      },
      "outputs": [
        {
          "output_type": "stream",
          "name": "stdout",
          "text": [
            "[0. 0. 0.]\n"
          ]
        }
      ],
      "source": [
        "y = np.zeros_like(x)\n",
        "alpha = 1.0\n",
        "beta = 0.0\n",
        "dgemv(alpha, A, x, beta, y)\n",
        "print(y)"
      ]
    },
    {
      "cell_type": "code",
      "source": [
        "import numpy as np\n",
        "from scipy.linalg import blas\n",
        "#*Use* BLAS functions to perform matrix-vector multiplication\n",
        "\n",
        "\n",
        "c=blas.dgemv(alpha, A, x, beta, y)\n",
        "\n",
        "print(c)\n",
        "\n",
        "\n",
        "\n"
      ],
      "metadata": {
        "id": "WivJF-f15xGV",
        "colab": {
          "base_uri": "https://localhost:8080/"
        },
        "outputId": "dc5992b2-f16b-4a93-8d6c-8e8cacd206b7"
      },
      "id": "WivJF-f15xGV",
      "execution_count": 4,
      "outputs": [
        {
          "output_type": "stream",
          "name": "stdout",
          "text": [
            "[14. 32. 50.]\n"
          ]
        }
      ]
    },
    {
      "cell_type": "markdown",
      "id": "e4414420",
      "metadata": {
        "id": "e4414420"
      },
      "source": [
        "Create two new vectors and calculate their dot product using BLAS functions."
      ]
    },
    {
      "cell_type": "code",
      "execution_count": 5,
      "id": "69354f50",
      "metadata": {
        "id": "69354f50",
        "outputId": "19f03f10-9168-4aee-e165-20bcbce3cf0a",
        "colab": {
          "base_uri": "https://localhost:8080/"
        }
      },
      "outputs": [
        {
          "output_type": "stream",
          "name": "stdout",
          "text": [
            "32.0\n"
          ]
        }
      ],
      "source": [
        "a = np.array([1, 2, 3], dtype=np.double)\n",
        "b = np.array([4, 5, 6], dtype=np.double)\n",
        "result = ddot(a, b)\n",
        "print(result)"
      ]
    },
    {
      "cell_type": "code",
      "source": [
        "blas.ddot(a,b)"
      ],
      "metadata": {
        "colab": {
          "base_uri": "https://localhost:8080/"
        },
        "id": "WnJax0DcGDQS",
        "outputId": "a2b685cd-2f52-4992-fd55-8dc7327dec24"
      },
      "id": "WnJax0DcGDQS",
      "execution_count": 6,
      "outputs": [
        {
          "output_type": "execute_result",
          "data": {
            "text/plain": [
              "32.0"
            ]
          },
          "metadata": {},
          "execution_count": 6
        }
      ]
    },
    {
      "cell_type": "markdown",
      "id": "288bcaf5",
      "metadata": {
        "id": "288bcaf5"
      },
      "source": [
        "Compute the L2 norm (Euclidean distance) of a vector using BLAS functions"
      ]
    },
    {
      "cell_type": "code",
      "execution_count": 7,
      "id": "82d0652a",
      "metadata": {
        "id": "82d0652a",
        "outputId": "732d83b0-c012-480c-8a63-2891be837062",
        "colab": {
          "base_uri": "https://localhost:8080/"
        }
      },
      "outputs": [
        {
          "output_type": "stream",
          "name": "stdout",
          "text": [
            "3.7416573867739413\n"
          ]
        }
      ],
      "source": [
        "a = np.array([1, 2, 3], dtype=np.double)\n",
        "norm = dnrm2(a)\n",
        "print(norm)"
      ]
    },
    {
      "cell_type": "code",
      "source": [
        "blas.dnrm2(a)"
      ],
      "metadata": {
        "colab": {
          "base_uri": "https://localhost:8080/"
        },
        "id": "eOHSdsCWGTIL",
        "outputId": "8f78d0df-acfc-4bbc-c9c0-f5302f7ac7c0"
      },
      "id": "eOHSdsCWGTIL",
      "execution_count": 8,
      "outputs": [
        {
          "output_type": "execute_result",
          "data": {
            "text/plain": [
              "3.7416573867739413"
            ]
          },
          "metadata": {},
          "execution_count": 8
        }
      ]
    },
    {
      "cell_type": "markdown",
      "id": "523a141c",
      "metadata": {
        "id": "523a141c"
      },
      "source": [
        "Create a 5x5 symmetric matrix and calculate its eigenvalues and eigenvectors using BLAS functions"
      ]
    },
    {
      "cell_type": "code",
      "source": [
        "import numpy as np\n",
        "from scipy.linalg import eigh\n",
        "\n",
        "# Define the 5x5 symmetric matrix\n",
        "A = np.array([[1, 2, 3, 4, 5], [2, 6, 7, 8, 9], [3, 7, 10, 11, 12], [4, 8, 11, 13, 14], [5, 9, 12, 14, 15]], dtype=np.double)\n",
        "A = 0.5 * (A + A.T) # make sure A is symmetric\n",
        "\n",
        "# Define the input vector\n",
        "x = np.array([1, 2, 3, 4, 5], dtype=np.double)\n",
        "\n",
        "# Calculate the matrix-vector product using BLAS functions\n",
        "y = np.dot(A, x)\n",
        "\n",
        "# Calculate the eigenvalues and eigenvectors using the eigh function\n",
        "w, v = eigh(A)\n",
        "\n",
        "# Print the results\n",
        "print(\"Matrix A:\\n\", A)\n",
        "print(\"Vector x:\\n\", x)\n",
        "print(\"Matrix-vector product y:\\n\", y)\n",
        "print(\"Eigenvalues:\", w)\n",
        "print(\"Eigenvectors:\\n\", v)\n"
      ],
      "metadata": {
        "colab": {
          "base_uri": "https://localhost:8080/"
        },
        "id": "7DHqn0qiLUyf",
        "outputId": "879e2fcf-17fd-465f-f8b8-fa787f5dca7f"
      },
      "id": "7DHqn0qiLUyf",
      "execution_count": 9,
      "outputs": [
        {
          "output_type": "stream",
          "name": "stdout",
          "text": [
            "Matrix A:\n",
            " [[ 1.  2.  3.  4.  5.]\n",
            " [ 2.  6.  7.  8.  9.]\n",
            " [ 3.  7. 10. 11. 12.]\n",
            " [ 4.  8. 11. 13. 14.]\n",
            " [ 5.  9. 12. 14. 15.]]\n",
            "Vector x:\n",
            " [1. 2. 3. 4. 5.]\n",
            "Matrix-vector product y:\n",
            " [ 55. 112. 151. 175. 190.]\n",
            "Eigenvalues: [-1.06976654  0.17107866  0.66327097  1.12044198 44.11497493]\n",
            "Eigenvectors:\n",
            " [[ 0.74040618  0.29272354 -0.2622205   0.51923398 -0.16657759]\n",
            " [ 0.25877317 -0.01176247 -0.5205591  -0.73629348 -0.34610435]\n",
            " [ 0.20831227  0.32514414  0.75652334 -0.24779322 -0.4660024 ]\n",
            " [ 0.05805977 -0.80337432  0.07392338  0.23445474 -0.53924491]\n",
            " [-0.58143804  0.40378901 -0.28716962  0.26813704 -0.58695859]]\n"
          ]
        }
      ]
    },
    {
      "cell_type": "code",
      "source": [
        "import numpy as np\n",
        "from scipy.linalg import eigh\n",
        "\n",
        "# Define the symmetric matrix\n",
        "A = np.array([[1, 2, 3], [2, 4, 5], [3, 5, 6]], dtype=np.double)\n",
        "\n",
        "# Compute the eigenvalues and eigenvectors using eigh\n",
        "w, v = eigh(A)\n",
        "\n",
        "# Print the results\n",
        "print(\"Eigenvalues:\", w)\n",
        "print(\"Eigenvectors:\\n\", v)\n"
      ],
      "metadata": {
        "colab": {
          "base_uri": "https://localhost:8080/"
        },
        "id": "zSSg43CSLGRX",
        "outputId": "4280aee5-16cf-4c73-a06f-6056c70e0103"
      },
      "id": "zSSg43CSLGRX",
      "execution_count": 10,
      "outputs": [
        {
          "output_type": "stream",
          "name": "stdout",
          "text": [
            "Eigenvalues: [-0.51572947  0.17091519 11.34481428]\n",
            "Eigenvectors:\n",
            " [[ 0.73697623  0.59100905 -0.32798528]\n",
            " [ 0.32798528 -0.73697623 -0.59100905]\n",
            " [-0.59100905  0.32798528 -0.73697623]]\n"
          ]
        }
      ]
    },
    {
      "cell_type": "code",
      "source": [
        "import scipy\n",
        "print(scipy.__version__)\n"
      ],
      "metadata": {
        "colab": {
          "base_uri": "https://localhost:8080/"
        },
        "id": "m-69sTPuHRg6",
        "outputId": "f44473f8-bc53-4cbd-d4e2-ff3406d6e816"
      },
      "id": "m-69sTPuHRg6",
      "execution_count": 12,
      "outputs": [
        {
          "output_type": "stream",
          "name": "stdout",
          "text": [
            "1.10.1\n"
          ]
        }
      ]
    },
    {
      "cell_type": "code",
      "source": [
        "!pip install --upgrade scipy\n"
      ],
      "metadata": {
        "colab": {
          "base_uri": "https://localhost:8080/"
        },
        "id": "xSvd3L5JHXLO",
        "outputId": "8a411b7a-b79d-4698-88a2-952c523f2060"
      },
      "id": "xSvd3L5JHXLO",
      "execution_count": 13,
      "outputs": [
        {
          "output_type": "stream",
          "name": "stdout",
          "text": [
            "Looking in indexes: https://pypi.org/simple, https://us-python.pkg.dev/colab-wheels/public/simple/\n",
            "Requirement already satisfied: scipy in /usr/local/lib/python3.9/dist-packages (1.10.1)\n",
            "Requirement already satisfied: numpy<1.27.0,>=1.19.5 in /usr/local/lib/python3.9/dist-packages (from scipy) (1.22.4)\n"
          ]
        }
      ]
    },
    {
      "cell_type": "markdown",
      "id": "b1bfaf15",
      "metadata": {
        "id": "b1bfaf15"
      },
      "source": [
        "Given the following matrix `A` and vector `v`: "
      ]
    },
    {
      "cell_type": "code",
      "execution_count": 14,
      "id": "2364d2a9",
      "metadata": {
        "id": "2364d2a9"
      },
      "outputs": [],
      "source": [
        "A = np.array([[1, 2, 3], [4, 5, 6], [7, 8, 9]], dtype=np.double)\n",
        "b = np.array([1, 2, 3], dtype=np.double)"
      ]
    },
    {
      "cell_type": "markdown",
      "id": "a2a7d962",
      "metadata": {
        "id": "a2a7d962"
      },
      "source": [
        "Solve the system `Ax = b` using the LU decomposition method and BLAS functions\n",
        "\n",
        "> Bloc en retrait\n",
        "\n"
      ]
    },
    {
      "cell_type": "code",
      "source": [
        "import scipy.linalg.lapack as lapack\n",
        "print(lapack.get_lapack_funcs(('getrf',), (np.array([], dtype=np.double),))[0])"
      ],
      "metadata": {
        "colab": {
          "base_uri": "https://localhost:8080/"
        },
        "id": "Mw0tzqFIaP0c",
        "outputId": "e7d9c818-f9ed-4cdf-8fc8-29b5b98f3480"
      },
      "id": "Mw0tzqFIaP0c",
      "execution_count": 16,
      "outputs": [
        {
          "output_type": "stream",
          "name": "stdout",
          "text": [
            "<fortran object>\n"
          ]
        }
      ]
    },
    {
      "cell_type": "code",
      "source": [
        "import numpy as np\n",
        "from scipy.linalg import lu_factor, lu_solve\n",
        "\n",
        "# Define the matrix A and vector b\n",
        "# Define the matrix A and vector b\n",
        "A = np.array([[1, 2, 3], [2, 5, 1], [4, 7, 2]], dtype=np.double)\n",
        "b = np.array([4, 5, 6], dtype=np.double)\n",
        "\n",
        "\n",
        "# Compute the LU decomposition of A using the lu_factor function\n",
        "lu, piv = lu_factor(A)\n",
        "\n",
        "# Solve the system Ax = b using the lu_solve function\n",
        "x = lu_solve((lu, piv), b)\n",
        "\n",
        "# Print the results\n",
        "print(\"Matrix A:\\n\", A)\n",
        "print(\"Vector b:\\n\", b)\n",
        "print(\"Solution x:\\n\", x)\n",
        "\n",
        "print(\"Solution x:\\n\", x)\n"
      ],
      "metadata": {
        "colab": {
          "base_uri": "https://localhost:8080/"
        },
        "id": "i7bnftQIbQzj",
        "outputId": "2f4bd5c9-7caa-474f-c824-856400600544"
      },
      "id": "i7bnftQIbQzj",
      "execution_count": 21,
      "outputs": [
        {
          "output_type": "stream",
          "name": "stdout",
          "text": [
            "Matrix A:\n",
            " [[1. 2. 3.]\n",
            " [2. 5. 1.]\n",
            " [4. 7. 2.]]\n",
            "Vector b:\n",
            " [4. 5. 6.]\n",
            "Solution x:\n",
            " [-1.26666667  1.33333333  0.86666667]\n",
            "Solution x:\n",
            " [-1.26666667  1.33333333  0.86666667]\n"
          ]
        }
      ]
    }
  ],
  "metadata": {
    "kernelspec": {
      "display_name": "Python 3 (ipykernel)",
      "language": "python",
      "name": "python3"
    },
    "language_info": {
      "codemirror_mode": {
        "name": "ipython",
        "version": 3
      },
      "file_extension": ".py",
      "mimetype": "text/x-python",
      "name": "python",
      "nbconvert_exporter": "python",
      "pygments_lexer": "ipython3",
      "version": "3.10.6"
    },
    "colab": {
      "provenance": []
    }
  },
  "nbformat": 4,
  "nbformat_minor": 5
}