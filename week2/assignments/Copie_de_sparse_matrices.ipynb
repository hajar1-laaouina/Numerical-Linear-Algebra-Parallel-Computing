{
  "cells": [
    {
      "cell_type": "markdown",
      "id": "aea03da3",
      "metadata": {
        "id": "aea03da3"
      },
      "source": [
        "In this assignement, feel free to use the `sparse` module from `scipy`."
      ]
    },
    {
      "cell_type": "markdown",
      "id": "2df42bcc",
      "metadata": {
        "id": "2df42bcc"
      },
      "source": [
        "Use the cell below for your imports."
      ]
    },
    {
      "cell_type": "code",
      "execution_count": 1,
      "id": "e9644e55",
      "metadata": {
        "id": "e9644e55"
      },
      "outputs": [],
      "source": [
        "from scipy import sparse"
      ]
    },
    {
      "cell_type": "markdown",
      "id": "8948a816",
      "metadata": {
        "id": "8948a816"
      },
      "source": [
        "implement the function `mat_mul_coo` that takes two sparse matrices in `coo` and returns their product."
      ]
    },
    {
      "cell_type": "code",
      "source": [
        "def mat_mul_coo(a, b):\n",
        "    a_coo = a.tocoo()\n",
        "    b_coo = b.tocoo()\n",
        "    if a_coo.shape[1] != b_coo.shape[0]:\n",
        "        raise ValueError(\"Matrices cannot be multiplied\")\n",
        "\n",
        "    rows_a, cols_a, data_a = a_coo.row, a_coo.col, a_coo.data\n",
        "    rows_b, cols_b, data_b = b_coo.row, b_coo.col, b_coo.data\n",
        "\n",
        "    cols = np.unique(np.concatenate((cols_a, cols_b)))\n",
        "    rows = np.unique(np.concatenate((rows_a, rows_b)))\n",
        "\n",
        "    n_rows, n_cols = len(rows), len(cols)\n",
        "\n",
        "    col_index = dict(zip(cols, range(n_cols)))\n",
        "    row_index = dict(zip(rows, range(n_rows)))\n",
        "\n",
        "    data = np.zeros((n_rows, n_cols))\n",
        "\n",
        "    for r, c, d in zip(rows_a, cols_a, data_a):\n",
        "        data[row_index[r], col_index[c]] += d\n",
        "\n",
        "    for r, c, d in zip(rows_b, cols_b, data_b):\n",
        "        data[row_index[r], col_index[c]] += d\n",
        "\n",
        "    return coo_matrix(data)\n"
      ],
      "metadata": {
        "id": "Wb-JyUzBZsLA"
      },
      "id": "Wb-JyUzBZsLA",
      "execution_count": 21,
      "outputs": []
    },
    {
      "cell_type": "code",
      "source": [
        "result = mat_mul_coo(a, b)\n",
        "expected = coo_matrix([[1, 2, 0], [0, 3, 4], [5, 0, 6]])\n",
        "print(result.toarray())\n",
        "print(expected.toarray())\n"
      ],
      "metadata": {
        "colab": {
          "base_uri": "https://localhost:8080/"
        },
        "id": "dj3UHcViZZ8O",
        "outputId": "47055ee7-f903-4c6d-99c6-a9dbb1b55629"
      },
      "id": "dj3UHcViZZ8O",
      "execution_count": 22,
      "outputs": [
        {
          "output_type": "stream",
          "name": "stdout",
          "text": [
            "[[2. 2. 0.]\n",
            " [0. 4. 4.]\n",
            " [5. 0. 7.]]\n",
            "[[1 2 0]\n",
            " [0 3 4]\n",
            " [5 0 6]]\n"
          ]
        }
      ]
    },
    {
      "cell_type": "markdown",
      "id": "4a626dec",
      "metadata": {
        "id": "4a626dec"
      },
      "source": [
        "implement the function `mat_mul_csr` that takes two sparse matrices in `csr` format and returns their product."
      ]
    },
    {
      "cell_type": "code",
      "source": [],
      "metadata": {
        "id": "vlPt3kCKWqBq"
      },
      "id": "vlPt3kCKWqBq",
      "execution_count": null,
      "outputs": []
    },
    {
      "cell_type": "code",
      "execution_count": 3,
      "id": "c2e56fbd",
      "metadata": {
        "id": "c2e56fbd"
      },
      "outputs": [],
      "source": [
        "from scipy.sparse import csr_matrix\n",
        "\n",
        "def mat_mul_csr(a: csr_matrix, b: csr_matrix) -> csr_matrix:\n",
        "    if a.shape[1] != b.shape[0]:\n",
        "        raise ValueError(\"Incompatible shapes\")\n",
        "    b_transpose = b.transpose()\n",
        "    result = csr_matrix((a.shape[0], b.shape[1]), dtype=a.dtype)\n",
        "    for i in range(a.shape[0]):\n",
        "        row_start = a.indptr[i]\n",
        "        row_end = a.indptr[i+1]\n",
        "        for j in range(b_transpose.shape[0]):\n",
        "            col_start = b_transpose.indptr[j]\n",
        "            col_end = b_transpose.indptr[j+1]\n",
        "            dot_product = 0\n",
        "            k1, k2 = row_start, col_start\n",
        "            while k1 < row_end and k2 < col_end:\n",
        "                if a.indices[k1] < b_transpose.indices[k2]:\n",
        "                    k1 += 1\n",
        "                elif a.indices[k1] > b_transpose.indices[k2]:\n",
        "                    k2 += 1\n",
        "                else:\n",
        "                    dot_product += a.data[k1] * b_transpose.data[k2]\n",
        "                    k1 += 1\n",
        "                    k2 += 1\n",
        "            if dot_product != 0:\n",
        "                result[i, j] = dot_product\n",
        "    return result\n"
      ]
    },
    {
      "cell_type": "code",
      "source": [
        "from scipy.sparse import csr_matrix\n",
        "\n",
        "# Define the matrices A and B in csr format\n",
        "A = csr_matrix([[1, 2, 3], [4, 5, 6], [7, 8, 9]])\n",
        "B = csr_matrix([[10, 11], [12, 13], [14, 15]])\n",
        "\n",
        "# Compute the product AB using mat_mul_csr\n",
        "AB = mat_mul_csr(A, B)\n",
        "\n",
        "# Print the result\n",
        "print(AB.toarray())\n"
      ],
      "metadata": {
        "colab": {
          "base_uri": "https://localhost:8080/"
        },
        "id": "uOtlVANyWBEB",
        "outputId": "2cdddb65-6000-4986-c120-07abf3e82cbd"
      },
      "id": "uOtlVANyWBEB",
      "execution_count": 6,
      "outputs": [
        {
          "output_type": "stream",
          "name": "stdout",
          "text": [
            "[[ 32  38]\n",
            " [ 95 113]\n",
            " [158 188]]\n"
          ]
        },
        {
          "output_type": "stream",
          "name": "stderr",
          "text": [
            "/usr/local/lib/python3.9/dist-packages/scipy/sparse/_index.py:103: SparseEfficiencyWarning: Changing the sparsity structure of a csr_matrix is expensive. lil_matrix is more efficient.\n",
            "  self._set_intXint(row, col, x.flat[0])\n"
          ]
        }
      ]
    },
    {
      "cell_type": "code",
      "source": [],
      "metadata": {
        "id": "38ziGevMWEUH"
      },
      "id": "38ziGevMWEUH",
      "execution_count": null,
      "outputs": []
    },
    {
      "cell_type": "markdown",
      "id": "9592a90b",
      "metadata": {
        "id": "9592a90b"
      },
      "source": [
        "implement a function `solve_lin_sys` that takes a matrix `A` in `csr` format and a vector `b` as a numpy array and solves the system `Ax = b`."
      ]
    },
    {
      "cell_type": "code",
      "execution_count": 4,
      "id": "00edeb4c",
      "metadata": {
        "id": "00edeb4c"
      },
      "outputs": [],
      "source": [
        "from typing import Union\n",
        "import numpy as np\n",
        "from scipy.sparse import csr_matrix\n",
        "from scipy.sparse.linalg import spsolve\n",
        "\n",
        "def solve_lin_sys(A: csr_matrix, b: Union[np.ndarray, list]) -> np.ndarray:\n",
        "    x = spsolve(A, b)\n",
        "    return x\n"
      ]
    },
    {
      "cell_type": "code",
      "source": [
        "from scipy.sparse import csr_matrix\n",
        "import numpy as np\n",
        "\n",
        "# Define the matrix A in csr format\n",
        "A = csr_matrix([[3, 0, 2], [0, 1, 0], [1, 0, 4]])\n",
        "\n",
        "# Define the vector b\n",
        "b = np.array([1, 2, 3])\n",
        "\n",
        "# Solve the system Ax = b\n",
        "x = solve_lin_sys(A, b)\n",
        "\n",
        "# Print the solution vector\n",
        "print(x)\n"
      ],
      "metadata": {
        "colab": {
          "base_uri": "https://localhost:8080/"
        },
        "id": "E2M9rUTOVKRP",
        "outputId": "1358988e-3aa0-4de1-87ab-2a50b8d8e767"
      },
      "id": "E2M9rUTOVKRP",
      "execution_count": 5,
      "outputs": [
        {
          "output_type": "stream",
          "name": "stdout",
          "text": [
            "[-0.2  2.   0.8]\n"
          ]
        }
      ]
    },
    {
      "cell_type": "code",
      "source": [],
      "metadata": {
        "id": "SiEBcbkHV9qC"
      },
      "id": "SiEBcbkHV9qC",
      "execution_count": null,
      "outputs": []
    },
    {
      "cell_type": "code",
      "source": [],
      "metadata": {
        "id": "gZX648pPV9zB"
      },
      "id": "gZX648pPV9zB",
      "execution_count": null,
      "outputs": []
    }
  ],
  "metadata": {
    "kernelspec": {
      "display_name": "Python 3 (ipykernel)",
      "language": "python",
      "name": "python3"
    },
    "language_info": {
      "codemirror_mode": {
        "name": "ipython",
        "version": 3
      },
      "file_extension": ".py",
      "mimetype": "text/x-python",
      "name": "python",
      "nbconvert_exporter": "python",
      "pygments_lexer": "ipython3",
      "version": "3.10.6"
    },
    "colab": {
      "provenance": []
    }
  },
  "nbformat": 4,
  "nbformat_minor": 5
}